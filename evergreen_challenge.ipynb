{
 "cells": [
  {
   "cell_type": "markdown",
   "metadata": {},
   "source": [
    "## Import libraries"
   ]
  },
  {
   "cell_type": "code",
   "execution_count": null,
   "metadata": {},
   "outputs": [],
   "source": [
    "import pandas as pd\n",
    "from nltk.corpus import stopwords as s \n",
    "import re\n",
    "from nltk.tokenize import word_tokenize  \n",
    "from scipy.stats import chi2_contingency \n",
    "from nltk.stem import WordNetLemmatizer\n",
    "import keras\n",
    "import tensorflow as tf"
   ]
  },
  {
   "cell_type": "markdown",
   "metadata": {},
   "source": [
    "## Data exploration and cleaning"
   ]
  },
  {
   "cell_type": "code",
   "execution_count": 2,
   "metadata": {},
   "outputs": [
    {
     "name": "stdout",
     "output_type": "stream",
     "text": [
      "(7395, 27)\n"
     ]
    },
    {
     "data": {
      "text/html": [
       "<div>\n",
       "<style scoped>\n",
       "    .dataframe tbody tr th:only-of-type {\n",
       "        vertical-align: middle;\n",
       "    }\n",
       "\n",
       "    .dataframe tbody tr th {\n",
       "        vertical-align: top;\n",
       "    }\n",
       "\n",
       "    .dataframe thead th {\n",
       "        text-align: right;\n",
       "    }\n",
       "</style>\n",
       "<table border=\"1\" class=\"dataframe\">\n",
       "  <thead>\n",
       "    <tr style=\"text-align: right;\">\n",
       "      <th></th>\n",
       "      <th>url</th>\n",
       "      <th>urlid</th>\n",
       "      <th>boilerplate</th>\n",
       "      <th>alchemy_category</th>\n",
       "      <th>alchemy_category_score</th>\n",
       "      <th>avglinksize</th>\n",
       "      <th>commonlinkratio_1</th>\n",
       "      <th>commonlinkratio_2</th>\n",
       "      <th>commonlinkratio_3</th>\n",
       "      <th>commonlinkratio_4</th>\n",
       "      <th>...</th>\n",
       "      <th>is_news</th>\n",
       "      <th>lengthyLinkDomain</th>\n",
       "      <th>linkwordscore</th>\n",
       "      <th>news_front_page</th>\n",
       "      <th>non_markup_alphanum_characters</th>\n",
       "      <th>numberOfLinks</th>\n",
       "      <th>numwords_in_url</th>\n",
       "      <th>parametrizedLinkRatio</th>\n",
       "      <th>spelling_errors_ratio</th>\n",
       "      <th>label</th>\n",
       "    </tr>\n",
       "  </thead>\n",
       "  <tbody>\n",
       "    <tr>\n",
       "      <th>0</th>\n",
       "      <td>http://www.bloomberg.com/news/2010-12-23/ibm-p...</td>\n",
       "      <td>4042</td>\n",
       "      <td>{\"title\":\"IBM Sees Holographic Calls Air Breat...</td>\n",
       "      <td>business</td>\n",
       "      <td>0.789131</td>\n",
       "      <td>2.055556</td>\n",
       "      <td>0.676471</td>\n",
       "      <td>0.205882</td>\n",
       "      <td>0.047059</td>\n",
       "      <td>0.023529</td>\n",
       "      <td>...</td>\n",
       "      <td>1</td>\n",
       "      <td>1</td>\n",
       "      <td>24</td>\n",
       "      <td>0</td>\n",
       "      <td>5424</td>\n",
       "      <td>170</td>\n",
       "      <td>8</td>\n",
       "      <td>0.152941</td>\n",
       "      <td>0.079130</td>\n",
       "      <td>0</td>\n",
       "    </tr>\n",
       "    <tr>\n",
       "      <th>1</th>\n",
       "      <td>http://www.popsci.com/technology/article/2012-...</td>\n",
       "      <td>8471</td>\n",
       "      <td>{\"title\":\"The Fully Electronic Futuristic Star...</td>\n",
       "      <td>recreation</td>\n",
       "      <td>0.574147</td>\n",
       "      <td>3.677966</td>\n",
       "      <td>0.508021</td>\n",
       "      <td>0.288770</td>\n",
       "      <td>0.213904</td>\n",
       "      <td>0.144385</td>\n",
       "      <td>...</td>\n",
       "      <td>1</td>\n",
       "      <td>1</td>\n",
       "      <td>40</td>\n",
       "      <td>0</td>\n",
       "      <td>4973</td>\n",
       "      <td>187</td>\n",
       "      <td>9</td>\n",
       "      <td>0.181818</td>\n",
       "      <td>0.125448</td>\n",
       "      <td>1</td>\n",
       "    </tr>\n",
       "    <tr>\n",
       "      <th>2</th>\n",
       "      <td>http://www.menshealth.com/health/flu-fighting-...</td>\n",
       "      <td>1164</td>\n",
       "      <td>{\"title\":\"Fruits that Fight the Flu fruits tha...</td>\n",
       "      <td>health</td>\n",
       "      <td>0.996526</td>\n",
       "      <td>2.382883</td>\n",
       "      <td>0.562016</td>\n",
       "      <td>0.321705</td>\n",
       "      <td>0.120155</td>\n",
       "      <td>0.042636</td>\n",
       "      <td>...</td>\n",
       "      <td>1</td>\n",
       "      <td>1</td>\n",
       "      <td>55</td>\n",
       "      <td>0</td>\n",
       "      <td>2240</td>\n",
       "      <td>258</td>\n",
       "      <td>11</td>\n",
       "      <td>0.166667</td>\n",
       "      <td>0.057613</td>\n",
       "      <td>1</td>\n",
       "    </tr>\n",
       "    <tr>\n",
       "      <th>3</th>\n",
       "      <td>http://www.dumblittleman.com/2007/12/10-foolpr...</td>\n",
       "      <td>6684</td>\n",
       "      <td>{\"title\":\"10 Foolproof Tips for Better Sleep \"...</td>\n",
       "      <td>health</td>\n",
       "      <td>0.801248</td>\n",
       "      <td>1.543103</td>\n",
       "      <td>0.400000</td>\n",
       "      <td>0.100000</td>\n",
       "      <td>0.016667</td>\n",
       "      <td>0.000000</td>\n",
       "      <td>...</td>\n",
       "      <td>1</td>\n",
       "      <td>0</td>\n",
       "      <td>24</td>\n",
       "      <td>0</td>\n",
       "      <td>2737</td>\n",
       "      <td>120</td>\n",
       "      <td>5</td>\n",
       "      <td>0.041667</td>\n",
       "      <td>0.100858</td>\n",
       "      <td>1</td>\n",
       "    </tr>\n",
       "    <tr>\n",
       "      <th>4</th>\n",
       "      <td>http://bleacherreport.com/articles/1205138-the...</td>\n",
       "      <td>9006</td>\n",
       "      <td>{\"title\":\"The 50 Coolest Jerseys You Didn t Kn...</td>\n",
       "      <td>sports</td>\n",
       "      <td>0.719157</td>\n",
       "      <td>2.676471</td>\n",
       "      <td>0.500000</td>\n",
       "      <td>0.222222</td>\n",
       "      <td>0.123457</td>\n",
       "      <td>0.043210</td>\n",
       "      <td>...</td>\n",
       "      <td>1</td>\n",
       "      <td>1</td>\n",
       "      <td>14</td>\n",
       "      <td>0</td>\n",
       "      <td>12032</td>\n",
       "      <td>162</td>\n",
       "      <td>10</td>\n",
       "      <td>0.098765</td>\n",
       "      <td>0.082569</td>\n",
       "      <td>0</td>\n",
       "    </tr>\n",
       "  </tbody>\n",
       "</table>\n",
       "<p>5 rows × 27 columns</p>\n",
       "</div>"
      ],
      "text/plain": [
       "                                                 url  urlid  \\\n",
       "0  http://www.bloomberg.com/news/2010-12-23/ibm-p...   4042   \n",
       "1  http://www.popsci.com/technology/article/2012-...   8471   \n",
       "2  http://www.menshealth.com/health/flu-fighting-...   1164   \n",
       "3  http://www.dumblittleman.com/2007/12/10-foolpr...   6684   \n",
       "4  http://bleacherreport.com/articles/1205138-the...   9006   \n",
       "\n",
       "                                         boilerplate alchemy_category  \\\n",
       "0  {\"title\":\"IBM Sees Holographic Calls Air Breat...         business   \n",
       "1  {\"title\":\"The Fully Electronic Futuristic Star...       recreation   \n",
       "2  {\"title\":\"Fruits that Fight the Flu fruits tha...           health   \n",
       "3  {\"title\":\"10 Foolproof Tips for Better Sleep \"...           health   \n",
       "4  {\"title\":\"The 50 Coolest Jerseys You Didn t Kn...           sports   \n",
       "\n",
       "  alchemy_category_score  avglinksize  commonlinkratio_1  commonlinkratio_2  \\\n",
       "0               0.789131     2.055556           0.676471           0.205882   \n",
       "1               0.574147     3.677966           0.508021           0.288770   \n",
       "2               0.996526     2.382883           0.562016           0.321705   \n",
       "3               0.801248     1.543103           0.400000           0.100000   \n",
       "4               0.719157     2.676471           0.500000           0.222222   \n",
       "\n",
       "   commonlinkratio_3  commonlinkratio_4  ...    is_news  lengthyLinkDomain  \\\n",
       "0           0.047059           0.023529  ...          1                  1   \n",
       "1           0.213904           0.144385  ...          1                  1   \n",
       "2           0.120155           0.042636  ...          1                  1   \n",
       "3           0.016667           0.000000  ...          1                  0   \n",
       "4           0.123457           0.043210  ...          1                  1   \n",
       "\n",
       "   linkwordscore  news_front_page  non_markup_alphanum_characters  \\\n",
       "0             24                0                            5424   \n",
       "1             40                0                            4973   \n",
       "2             55                0                            2240   \n",
       "3             24                0                            2737   \n",
       "4             14                0                           12032   \n",
       "\n",
       "   numberOfLinks  numwords_in_url parametrizedLinkRatio  \\\n",
       "0            170                8              0.152941   \n",
       "1            187                9              0.181818   \n",
       "2            258               11              0.166667   \n",
       "3            120                5              0.041667   \n",
       "4            162               10              0.098765   \n",
       "\n",
       "   spelling_errors_ratio  label  \n",
       "0               0.079130      0  \n",
       "1               0.125448      1  \n",
       "2               0.057613      1  \n",
       "3               0.100858      1  \n",
       "4               0.082569      0  \n",
       "\n",
       "[5 rows x 27 columns]"
      ]
     },
     "execution_count": 2,
     "metadata": {},
     "output_type": "execute_result"
    }
   ],
   "source": [
    "data=pd.read_csv(\"train.csv\")\n",
    "data_copy = data.copy()\n",
    "print(data.shape)\n",
    "data.head(5)"
   ]
  },
  {
   "cell_type": "code",
   "execution_count": null,
   "metadata": {},
   "outputs": [],
   "source": [
    "#imp of features, correlation with target, remove numbers, check data uniformity (length same or not), nn for classification, how to decide features to be kept for model, define title body in stopwords, how to use text data/large text data, summarise boilerplate, detect outliers, normal/? distribution of data, class imbalance problem"
   ]
  },
  {
   "cell_type": "code",
   "execution_count": 3,
   "metadata": {},
   "outputs": [
    {
     "data": {
      "text/plain": [
       "1    3796\n",
       "0    3599\n",
       "Name: label, dtype: int64"
      ]
     },
     "execution_count": 3,
     "metadata": {},
     "output_type": "execute_result"
    }
   ],
   "source": [
    "data['label'].value_counts() "
   ]
  },
  {
   "cell_type": "markdown",
   "metadata": {},
   "source": [
    "#### Conclusion: the data does not have a class imbalance problem"
   ]
  },
  {
   "cell_type": "code",
   "execution_count": 4,
   "metadata": {},
   "outputs": [
    {
     "data": {
      "text/plain": [
       "label                             0\n",
       "frameTagRatio                     0\n",
       "alchemy_category                  0\n",
       "alchemy_category_score            0\n",
       "avglinksize                       0\n",
       "commonlinkratio_1                 0\n",
       "commonlinkratio_2                 0\n",
       "commonlinkratio_3                 0\n",
       "commonlinkratio_4                 0\n",
       "compression_ratio                 0\n",
       "embed_ratio                       0\n",
       "framebased                        0\n",
       "hasDomainLink                     0\n",
       "spelling_errors_ratio             0\n",
       "html_ratio                        0\n",
       "image_ratio                       0\n",
       "is_news                           0\n",
       "lengthyLinkDomain                 0\n",
       "linkwordscore                     0\n",
       "news_front_page                   0\n",
       "non_markup_alphanum_characters    0\n",
       "numberOfLinks                     0\n",
       "numwords_in_url                   0\n",
       "parametrizedLinkRatio             0\n",
       "boilerplate                       0\n",
       "dtype: int64"
      ]
     },
     "execution_count": 4,
     "metadata": {},
     "output_type": "execute_result"
    }
   ],
   "source": [
    "#check missing values\n",
    "\n",
    "data.isnull().sum().sort_values(ascending=False)"
   ]
  },
  {
   "cell_type": "code",
   "execution_count": 9,
   "metadata": {},
   "outputs": [
    {
     "data": {
      "text/plain": [
       "2342"
      ]
     },
     "execution_count": 9,
     "metadata": {},
     "output_type": "execute_result"
    }
   ],
   "source": [
    "l=list(data['alchemy_category'])\n",
    "l.count('?')"
   ]
  },
  {
   "cell_type": "code",
   "execution_count": 24,
   "metadata": {},
   "outputs": [],
   "source": [
    "smalltraindata = data.iloc[0:500,:]"
   ]
  },
  {
   "cell_type": "code",
   "execution_count": 25,
   "metadata": {},
   "outputs": [],
   "source": [
    "def clean_data(data):\n",
    "    data.drop(['url','urlid'],axis=1,inplace=True)\n",
    "    stopwords = s.words('english')\n",
    "    for i in range (0, data.shape[0]):\n",
    "        words_to_remove = ['''\"title\"''','''\"body\"''','''\"url\"''']\n",
    "        for w in words_to_remove:\n",
    "            data['boilerplate'].loc[i] = (data['boilerplate'].loc[i]).replace(w, \"\")\n",
    "        data['boilerplate'].loc[i] = re.sub(r'[^\\w\\s]',\"\", data['boilerplate'].loc[i])\n",
    "        word_tokens = word_tokenize(data['boilerplate'].loc[i])\n",
    "        data['boilerplate'].loc[i]=\" \".join(filter(lambda x: x not in stopwords , word_tokens))\n",
    "        data['boilerplate'].loc[i]= re.sub('\\d',\"\",data['boilerplate'].loc[i])\n",
    "        \n",
    "    \n",
    "    \n",
    "clean_data (data)"
   ]
  },
  {
   "cell_type": "code",
   "execution_count": null,
   "metadata": {},
   "outputs": [],
   "source": [
    "data.to_csv('C:/Users/Gunisha Chaturvedi/Dropbox/My PC (LAPTOP-1CT80JS5)/Documents/internships/smalltraindata.csv')"
   ]
  },
  {
   "cell_type": "code",
   "execution_count": null,
   "metadata": {},
   "outputs": [],
   "source": [
    "smalltraindata = pd.read_csv('C:/Users/Gunisha Chaturvedi/Dropbox/My PC (LAPTOP-1CT80JS5)/Documents/internships/smalltraindata.csv')"
   ]
  },
  {
   "cell_type": "markdown",
   "metadata": {},
   "source": [
    "### Check correlation of alchemy_category with label using chi-squared test"
   ]
  },
  {
   "cell_type": "code",
   "execution_count": 64,
   "metadata": {},
   "outputs": [
    {
     "data": {
      "text/html": [
       "<div>\n",
       "<style scoped>\n",
       "    .dataframe tbody tr th:only-of-type {\n",
       "        vertical-align: middle;\n",
       "    }\n",
       "\n",
       "    .dataframe tbody tr th {\n",
       "        vertical-align: top;\n",
       "    }\n",
       "\n",
       "    .dataframe thead th {\n",
       "        text-align: right;\n",
       "    }\n",
       "</style>\n",
       "<table border=\"1\" class=\"dataframe\">\n",
       "  <thead>\n",
       "    <tr style=\"text-align: right;\">\n",
       "      <th>alchemy_category</th>\n",
       "      <th>?</th>\n",
       "      <th>arts_entertainment</th>\n",
       "      <th>business</th>\n",
       "      <th>computer_internet</th>\n",
       "      <th>culture_politics</th>\n",
       "      <th>gaming</th>\n",
       "      <th>health</th>\n",
       "      <th>law_crime</th>\n",
       "      <th>recreation</th>\n",
       "      <th>religion</th>\n",
       "      <th>science_technology</th>\n",
       "      <th>sports</th>\n",
       "      <th>unknown</th>\n",
       "      <th>weather</th>\n",
       "    </tr>\n",
       "    <tr>\n",
       "      <th>label</th>\n",
       "      <th></th>\n",
       "      <th></th>\n",
       "      <th></th>\n",
       "      <th></th>\n",
       "      <th></th>\n",
       "      <th></th>\n",
       "      <th></th>\n",
       "      <th></th>\n",
       "      <th></th>\n",
       "      <th></th>\n",
       "      <th></th>\n",
       "      <th></th>\n",
       "      <th></th>\n",
       "      <th></th>\n",
       "    </tr>\n",
       "  </thead>\n",
       "  <tbody>\n",
       "    <tr>\n",
       "      <th>0</th>\n",
       "      <td>1166</td>\n",
       "      <td>591</td>\n",
       "      <td>254</td>\n",
       "      <td>223</td>\n",
       "      <td>186</td>\n",
       "      <td>48</td>\n",
       "      <td>216</td>\n",
       "      <td>18</td>\n",
       "      <td>388</td>\n",
       "      <td>42</td>\n",
       "      <td>157</td>\n",
       "      <td>302</td>\n",
       "      <td>4</td>\n",
       "      <td>4</td>\n",
       "    </tr>\n",
       "    <tr>\n",
       "      <th>1</th>\n",
       "      <td>1176</td>\n",
       "      <td>350</td>\n",
       "      <td>626</td>\n",
       "      <td>73</td>\n",
       "      <td>157</td>\n",
       "      <td>28</td>\n",
       "      <td>290</td>\n",
       "      <td>13</td>\n",
       "      <td>841</td>\n",
       "      <td>30</td>\n",
       "      <td>132</td>\n",
       "      <td>78</td>\n",
       "      <td>2</td>\n",
       "      <td>0</td>\n",
       "    </tr>\n",
       "  </tbody>\n",
       "</table>\n",
       "</div>"
      ],
      "text/plain": [
       "alchemy_category     ?  arts_entertainment  business  computer_internet  \\\n",
       "label                                                                     \n",
       "0                 1166                 591       254                223   \n",
       "1                 1176                 350       626                 73   \n",
       "\n",
       "alchemy_category  culture_politics  gaming  health  law_crime  recreation  \\\n",
       "label                                                                       \n",
       "0                              186      48     216         18         388   \n",
       "1                              157      28     290         13         841   \n",
       "\n",
       "alchemy_category  religion  science_technology  sports  unknown  weather  \n",
       "label                                                                     \n",
       "0                       42                 157     302        4        4  \n",
       "1                       30                 132      78        2        0  "
      ]
     },
     "execution_count": 64,
     "metadata": {},
     "output_type": "execute_result"
    }
   ],
   "source": [
    "pd.crosstab(data['label'],data['alchemy_category'])"
   ]
  },
  {
   "cell_type": "code",
   "execution_count": 74,
   "metadata": {},
   "outputs": [
    {
     "name": "stdout",
     "output_type": "stream",
     "text": [
      "p value is 3.857352828735912e-124\n",
      "Dependent (reject H0)\n"
     ]
    }
   ],
   "source": [
    "# h0 = no relationship bw variables\n",
    "\n",
    "cont_table = [[591,254,223,186,48,216,18,388,42,157,302,4,4], [350,626,73,157,28,290,13,841,30,132,78,2,0]] \n",
    "stat, p, dof, expected = chi2_contingency(cont_table) \n",
    "  \n",
    "alpha = 0.05\n",
    "print(\"p value is \" + str(p)) \n",
    "if p <= alpha: \n",
    "    print('Dependent (reject H0)') \n",
    "else: \n",
    "    print('Independent (H0 holds true)') "
   ]
  },
  {
   "cell_type": "code",
   "execution_count": 55,
   "metadata": {},
   "outputs": [
    {
     "name": "stdout",
     "output_type": "stream",
     "text": [
      "4925\n"
     ]
    }
   ],
   "source": [
    "print(len(data['boilerplate'][0]))\n",
    "#data['label'][500]"
   ]
  },
  {
   "cell_type": "markdown",
   "metadata": {},
   "source": [
    "#### Observation: length of boiler plate code varies a lot "
   ]
  },
  {
   "cell_type": "code",
   "execution_count": 11,
   "metadata": {},
   "outputs": [],
   "source": [
    "from nltk.stem import WordNetLemmatizer\n",
    "lemm = WordNetLemmatizer()\n",
    "text = data['boilerplate'][0]\n",
    "for word in text:\n",
    "    word = lemm.lemmatize(word)"
   ]
  },
  {
   "cell_type": "code",
   "execution_count": 29,
   "metadata": {},
   "outputs": [
    {
     "data": {
      "text/plain": [
       "'run'"
      ]
     },
     "execution_count": 29,
     "metadata": {},
     "output_type": "execute_result"
    }
   ],
   "source": [
    "lemm.lemmatize(\"ran\",pos =\"v\")"
   ]
  },
  {
   "cell_type": "code",
   "execution_count": 1,
   "metadata": {},
   "outputs": [],
   "source": [
    "from keras.preprocessing.text import one_hot\n",
    "\n",
    "sentence=['Fast cars are good',\n",
    "          'Football is a famous sport',\n",
    "          'Be happy Be positive']\n",
    "\n",
    "vocab_size=1000\n",
    "\n",
    "encoded_docs=[one_hot(d,vocab_size) for d in sentence]"
   ]
  },
  {
   "cell_type": "code",
   "execution_count": 3,
   "metadata": {},
   "outputs": [
    {
     "data": {
      "text/plain": [
       "[[643, 917, 590, 806], [866, 599, 532, 150, 923], [28, 261, 28, 121]]"
      ]
     },
     "execution_count": 3,
     "metadata": {},
     "output_type": "execute_result"
    }
   ],
   "source": [
    "encoded_docs"
   ]
  },
  {
   "cell_type": "code",
   "execution_count": 5,
   "metadata": {},
   "outputs": [],
   "source": [
    "from keras.preprocessing.sequence import pad_sequences\n",
    "from keras.models import Sequential\n",
    "from keras.layers import Embedding\n",
    "import numpy as np"
   ]
  },
  {
   "cell_type": "code",
   "execution_count": 34,
   "metadata": {},
   "outputs": [],
   "source": [
    "# embedding_length=5\n",
    "# max_length=10\n",
    "\n",
    "# encoded_docs=pad_sequences(encoded_docs,truncating='post',padding='post',maxlen=max_length)\n",
    "# print(encoded_docs)"
   ]
  },
  {
   "cell_type": "code",
   "execution_count": 33,
   "metadata": {},
   "outputs": [],
   "source": [
    "# model=Sequential()\n",
    "# model.add(Embedding(vocab_size,embedding_length,input_length=max_length))\n",
    "# model.compile('rmsprop','mse')\n",
    "# model.summary()\n",
    "# output=model.predict(encoded_docs)\n",
    "# print(output.shape)\n",
    "# print(output)"
   ]
  },
  {
   "cell_type": "code",
   "execution_count": 56,
   "metadata": {},
   "outputs": [
    {
     "data": {
      "text/plain": [
       "1847.754"
      ]
     },
     "execution_count": 56,
     "metadata": {},
     "output_type": "execute_result"
    }
   ],
   "source": [
    "length=[]\n",
    "for i in range (0, data.shape[0]):\n",
    "    length.append(len(data['boilerplate'].loc[i]))\n",
    "\n",
    "l = pd.Series(length)\n",
    "sum(l)/len(l)"
   ]
  },
  {
   "cell_type": "code",
   "execution_count": 44,
   "metadata": {},
   "outputs": [
    {
     "name": "stderr",
     "output_type": "stream",
     "text": [
      "C:\\Users\\Gunisha Chaturvedi\\Anaconda3\\lib\\site-packages\\ipykernel_launcher.py:7: SettingWithCopyWarning: \n",
      "A value is trying to be set on a copy of a slice from a DataFrame\n",
      "\n",
      "See the caveats in the documentation: http://pandas.pydata.org/pandas-docs/stable/indexing.html#indexing-view-versus-copy\n",
      "  import sys\n",
      "C:\\Users\\Gunisha Chaturvedi\\Anaconda3\\lib\\site-packages\\ipykernel_launcher.py:8: SettingWithCopyWarning: \n",
      "A value is trying to be set on a copy of a slice from a DataFrame\n",
      "\n",
      "See the caveats in the documentation: http://pandas.pydata.org/pandas-docs/stable/indexing.html#indexing-view-versus-copy\n",
      "  \n",
      "C:\\Users\\Gunisha Chaturvedi\\Anaconda3\\lib\\site-packages\\ipykernel_launcher.py:10: SettingWithCopyWarning: \n",
      "A value is trying to be set on a copy of a slice from a DataFrame\n",
      "\n",
      "See the caveats in the documentation: http://pandas.pydata.org/pandas-docs/stable/indexing.html#indexing-view-versus-copy\n",
      "  # Remove the CWD from sys.path while we load stuff.\n",
      "C:\\Users\\Gunisha Chaturvedi\\Anaconda3\\lib\\site-packages\\ipykernel_launcher.py:11: SettingWithCopyWarning: \n",
      "A value is trying to be set on a copy of a slice from a DataFrame\n",
      "\n",
      "See the caveats in the documentation: http://pandas.pydata.org/pandas-docs/stable/indexing.html#indexing-view-versus-copy\n",
      "  # This is added back by InteractiveShellApp.init_path()\n"
     ]
    }
   ],
   "source": [
    "#testdata = pd.read_csv(\"test.csv\")\n",
    "testdata = data_copy.iloc[0:70,:]\n",
    "clean_data(testdata)"
   ]
  },
  {
   "cell_type": "code",
   "execution_count": 73,
   "metadata": {},
   "outputs": [
    {
     "name": "stdout",
     "output_type": "stream",
     "text": [
      "3/3 [==============================] - 0s 10ms/step - loss: 0.5249 - accuracy: 0.9286\n",
      "Test accuracy: 0.9285714030265808\n"
     ]
    }
   ],
   "source": [
    "#xtrain, ytrain = data['boilerplate'], data['label']\n",
    "#xtest, ytest = testdata['boilerplate'], testdata['label']\n",
    "#vocab_size, embed_size = 2000, 20\n",
    "#model = tf.keras.Sequential()\n",
    "#max_length= 1847\n",
    "#from keras.preprocessing.text import one_hot\n",
    "#encoded_docs_train=[one_hot(d,vocab_size) for d in xtrain]\n",
    "#encoded_docs_test=[one_hot(d,vocab_size) for d in xtest]\n",
    "#xtrain = tf.keras.preprocessing.sequence.pad_sequences(encoded_docs_train, maxlen= max_length)\n",
    "#xtest = tf.keras.preprocessing.sequence.pad_sequences(encoded_docs_test, maxlen= max_length)\n",
    "#model.add(tf.keras.layers.Embedding(vocab_size, embed_size, input_length= max_length))\n",
    "#model.add(tf.keras.layers.LSTM (units=70, activation='tanh'))\n",
    "#model.add(tf.keras.layers.Dense(units=1, activation='sigmoid'))\n",
    "#model.summary()\n",
    "#model.compile(optimizer='rmsprop', loss='binary_crossentropy', metrics=['accuracy'])\n",
    "#model.fit(xtrain, ytrain, epochs=5, batch_size=128)\n",
    "\n",
    "test_loss, test_acurracy = model.evaluate(xtest, ytest)\n",
    "print(\"Test accuracy: {}\".format(test_acurracy))"
   ]
  },
  {
   "cell_type": "code",
   "execution_count": 59,
   "metadata": {},
   "outputs": [
    {
     "data": {
      "text/plain": [
       "'Padding the Text'"
      ]
     },
     "execution_count": 59,
     "metadata": {},
     "output_type": "execute_result"
    }
   ],
   "source": [
    "import numpy as np\n",
    "import tensorflow as tf\n",
    "\n",
    "\"\"\"Loading the Dataset\"\"\"\n",
    "\n",
    "from tensorflow.keras.datasets import imdb\n",
    "\n",
    "\"\"\"### **Data Preprocessing**\"\"\"\n",
    "\n",
    "words=20000\n",
    "max_length=100\n",
    "\n",
    "(x_train, y_train), (x_test, y_test) = imdb.load_data(num_words=words)\n",
    "\n",
    "\"\"\"Padding the Text\"\"\"\n",
    "\n",
    "# x_train = tf.keras.preprocessing.sequence.pad_sequences(x_train, maxlen=max_length)\n",
    "\n",
    "# x_test = tf.keras.preprocessing.sequence.pad_sequences(x_test, maxlen=max_length)\n"
   ]
  },
  {
   "cell_type": "code",
   "execution_count": 61,
   "metadata": {},
   "outputs": [
    {
     "data": {
      "text/plain": [
       "0      IBM Sees Holographic Calls Air Breathing Batte...\n",
       "1      The Fully Electronic Futuristic Starting Gun T...\n",
       "2      Fruits Fight Flu fruits fight flu cold flu men...\n",
       "3       Foolproof Tips Better Sleep There period life...\n",
       "4      The  Coolest Jerseys You Didn Know Existed coo...\n",
       "5      conveniencemedical genital herpes home phpGeni...\n",
       "6      fashion lane American Wild Child Our favorite ...\n",
       "7      insidershealth article racing recovery Racing ...\n",
       "8      Valet The Handbook  Days  daysResolutions suck...\n",
       "9      howsweeteats    cookies cream browniesCookies ...\n",
       "10     Business Financial News Breaking US Internatio...\n",
       "11     A Tip Cap The Greatest Iron Man Them All As su...\n",
       "12      Foods That Trash Your Teeth There  different ...\n",
       "13     thedailygreen print healthy eating eat safe Di...\n",
       "14     phillyburbs blogs type kitchen french onion st...\n",
       "15     Izabel Goulart Swimsuit Kikidoll  Sports Illus...\n",
       "16     Liquid Mountaineering The Awesomer Link We pre...\n",
       "17     nullThe annual Chap Olympiad described celebra...\n",
       "18     Grilled Peaches Sugarcrafter June   Print E ma...\n",
       "19     How Make Your Home Healthier A Room Room Guide...\n",
       "20     tmz    olympic soccer alex morgan bikini photo...\n",
       "21     BBC Food Recipes Blueberry lemon traybake frui...\n",
       "22     Quit Smoking Counter Online counter measures s...\n",
       "23     Original techniques tie shoe laces http www da...\n",
       "24     blogs babble family kitchen    ultimate blt sa...\n",
       "25     Best College Football Fan Sign Ever Alabama Fa...\n",
       "26     Breaking News Blog Contact Empty List Empty Li...\n",
       "27     The Alton Brown Flower Pot Smoker Friends buil...\n",
       "28     Supermodels show bikini bods Humor May  Mirand...\n",
       "29     Genevieve Morton Swimsuit Tyler Rose Swimwear ...\n",
       "                             ...                        \n",
       "470    Strawberry Cheesecake Dip Cinnamon Sugar Pita ...\n",
       "471    Why Ford Won Sell Its mpg Car US Mick Arran fo...\n",
       "472    Convenient Camera Future technology It tourist...\n",
       "473    Guaranteed way make money That right You makes...\n",
       "474    Fighting control Somalia The Big Picture fight...\n",
       "475    Favorite Afternoon Snacks Welcome Home Wonderf...\n",
       "476    The dark side Dubai Johann Hari Commentators n...\n",
       "477    One Week Food Menu Economical And Healthy Brea...\n",
       "478    Ned Hardy The Overflow The problem countries e...\n",
       "479    ivillage best natural remedies around world  b...\n",
       "480    How Create Maintain Personal Uniform College F...\n",
       "481    Recent blogger reviews cookbooks lisaiscooking...\n",
       "482    The Rotary Engine Funny demotivational posters...\n",
       "483    Wholesome Nutrition  Healthy Foods Solid Resea...\n",
       "484                           dokalternatibo org careers\n",
       "485    Long Hair vs Short Hair Vote Celebrity Hair St...\n",
       "486    NAO Robots Are Getting Better At Everything na...\n",
       "487     Quick Headache Cures Remedies Fight Migraine ...\n",
       "488     D Christmas Cookie Tree Being first blizzard ...\n",
       "489    BBC Food Recipes BBQ sauce perfect accompanime...\n",
       "490    Louis CK Absolutely Kills It The Tonight Show ...\n",
       "491    Healthy Oatmeal Recipes healthy ways liven oat...\n",
       "492    dallasobserver slideshow blondes vs brunettes ...\n",
       "493    Sing For Your Supper Gooey Salted Caramel Brow...\n",
       "494    QDB Quote    X raela man today bio I actually ...\n",
       "495    Elegantly Wasted Tuesday March   Posted Elegan...\n",
       "496    China  Olympic Stadium Interesting chinas  oly...\n",
       "497    Batman Hoodie PIC batman hoodie batman hoodieS...\n",
       "498    Momofuku Milk Bar Compost Cookie Recipe My mom...\n",
       "499    Eating On Go Heidi Klum AOL eating goEating On...\n",
       "Name: boilerplate, Length: 500, dtype: object"
      ]
     },
     "execution_count": 61,
     "metadata": {},
     "output_type": "execute_result"
    }
   ],
   "source": [
    "xtrain"
   ]
  },
  {
   "cell_type": "code",
   "execution_count": null,
   "metadata": {},
   "outputs": [],
   "source": []
  }
 ],
 "metadata": {
  "kernelspec": {
   "display_name": "Python 3",
   "language": "python",
   "name": "python3"
  },
  "language_info": {
   "codemirror_mode": {
    "name": "ipython",
    "version": 3
   },
   "file_extension": ".py",
   "mimetype": "text/x-python",
   "name": "python",
   "nbconvert_exporter": "python",
   "pygments_lexer": "ipython3",
   "version": "3.7.1"
  }
 },
 "nbformat": 4,
 "nbformat_minor": 2
}
